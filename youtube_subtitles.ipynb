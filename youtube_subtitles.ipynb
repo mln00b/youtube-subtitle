{
  "nbformat": 4,
  "nbformat_minor": 0,
  "metadata": {
    "colab": {
      "name": "youtube-subtitles.ipynb",
      "provenance": [],
      "authorship_tag": "ABX9TyOGekPSiGkZyPk6L1ysjNt5",
      "include_colab_link": true
    },
    "kernelspec": {
      "name": "python3",
      "display_name": "Python 3"
    },
    "language_info": {
      "name": "python"
    }
  },
  "cells": [
    {
      "cell_type": "markdown",
      "metadata": {
        "id": "view-in-github",
        "colab_type": "text"
      },
      "source": [
        "<a href=\"https://colab.research.google.com/github/mln00b/youtube-subtitle/blob/main/youtube_subtitles.ipynb\" target=\"_parent\"><img src=\"https://colab.research.google.com/assets/colab-badge.svg\" alt=\"Open In Colab\"/></a>"
      ]
    },
    {
      "cell_type": "markdown",
      "metadata": {
        "id": "6Pr-j1FhT4Al"
      },
      "source": [
        "# Get Repo"
      ]
    },
    {
      "cell_type": "code",
      "metadata": {
        "colab": {
          "base_uri": "https://localhost:8080/"
        },
        "id": "gEQSSFboS0Bu",
        "outputId": "d97a98f0-2467-4a81-e65a-633f601dccf6"
      },
      "source": [
        "!git clone https://github.com/mln00b/youtube-subtitle\n",
        "!pip install -r youtube-subtitle/requirements.txt"
      ],
      "execution_count": 1,
      "outputs": [
        {
          "output_type": "stream",
          "text": [
            "Cloning into 'youtube-subtitle'...\n",
            "remote: Enumerating objects: 12, done.\u001b[K\n",
            "remote: Counting objects: 100% (12/12), done.\u001b[K\n",
            "remote: Compressing objects: 100% (10/10), done.\u001b[K\n",
            "remote: Total 12 (delta 1), reused 8 (delta 1), pack-reused 0\u001b[K\n",
            "Unpacking objects: 100% (12/12), done.\n",
            "Collecting youtube_transcript_api==0.4.1\n",
            "  Downloading youtube_transcript_api-0.4.1-py3-none-any.whl (22 kB)\n",
            "Requirement already satisfied: tqdm in /usr/local/lib/python3.7/dist-packages (from -r youtube-subtitle/requirements.txt (line 2)) (4.41.1)\n",
            "Requirement already satisfied: requests in /usr/local/lib/python3.7/dist-packages (from youtube_transcript_api==0.4.1->-r youtube-subtitle/requirements.txt (line 1)) (2.23.0)\n",
            "Requirement already satisfied: urllib3!=1.25.0,!=1.25.1,<1.26,>=1.21.1 in /usr/local/lib/python3.7/dist-packages (from requests->youtube_transcript_api==0.4.1->-r youtube-subtitle/requirements.txt (line 1)) (1.24.3)\n",
            "Requirement already satisfied: certifi>=2017.4.17 in /usr/local/lib/python3.7/dist-packages (from requests->youtube_transcript_api==0.4.1->-r youtube-subtitle/requirements.txt (line 1)) (2021.5.30)\n",
            "Requirement already satisfied: idna<3,>=2.5 in /usr/local/lib/python3.7/dist-packages (from requests->youtube_transcript_api==0.4.1->-r youtube-subtitle/requirements.txt (line 1)) (2.10)\n",
            "Requirement already satisfied: chardet<4,>=3.0.2 in /usr/local/lib/python3.7/dist-packages (from requests->youtube_transcript_api==0.4.1->-r youtube-subtitle/requirements.txt (line 1)) (3.0.4)\n",
            "Installing collected packages: youtube-transcript-api\n",
            "Successfully installed youtube-transcript-api-0.4.1\n"
          ],
          "name": "stdout"
        }
      ]
    },
    {
      "cell_type": "code",
      "metadata": {
        "colab": {
          "base_uri": "https://localhost:8080/"
        },
        "id": "ElePjtYDS7P-",
        "outputId": "9e2c7314-4e23-4d32-b1a1-4932d33a832e"
      },
      "source": [
        "%cd youtube-subtitle"
      ],
      "execution_count": 2,
      "outputs": [
        {
          "output_type": "stream",
          "text": [
            "/content/youtube-subtitle\n"
          ],
          "name": "stdout"
        }
      ]
    },
    {
      "cell_type": "markdown",
      "metadata": {
        "id": "Ufu5xa0HTZNY"
      },
      "source": [
        "# Single URL"
      ]
    },
    {
      "cell_type": "code",
      "metadata": {
        "colab": {
          "base_uri": "https://localhost:8080/"
        },
        "id": "GACKjy43THn-",
        "outputId": "0913f2b6-baa6-4e30-b13f-4cfe2fe7ead6"
      },
      "source": [
        "!python get_subtitles.py --url https://www.youtube.com/watch?v=DbeIqrwb_dE"
      ],
      "execution_count": 4,
      "outputs": [
        {
          "output_type": "stream",
          "text": [
            "  0% 0/1 [00:00<?, ?it/s]url:  https://www.youtube.com/watch?v=DbeIqrwb_dE\n",
            "JSON file written at: DbeIqrwb_dE.json\n",
            "100% 1/1 [00:00<00:00,  2.00it/s]\n"
          ],
          "name": "stdout"
        }
      ]
    },
    {
      "cell_type": "code",
      "metadata": {
        "colab": {
          "base_uri": "https://localhost:8080/"
        },
        "id": "sr1bvPISTe0U",
        "outputId": "80406bf3-03a3-463e-9e97-f8e919ed890e"
      },
      "source": [
        "!ls | grep .json"
      ],
      "execution_count": 5,
      "outputs": [
        {
          "output_type": "stream",
          "text": [
            "DbeIqrwb_dE.json\n"
          ],
          "name": "stdout"
        }
      ]
    },
    {
      "cell_type": "markdown",
      "metadata": {
        "id": "W9qFinrATbok"
      },
      "source": [
        "## Multiple URLs"
      ]
    },
    {
      "cell_type": "code",
      "metadata": {
        "colab": {
          "base_uri": "https://localhost:8080/"
        },
        "id": "XtAnYMrMTTth",
        "outputId": "c0785230-c536-4a27-9b90-81d52f6627aa"
      },
      "source": [
        "!python get_subtitles.py --urls https://www.youtube.com/watch?v=3Kb0QS6z7WA https://www.youtube.com/watch?v=E-I2DNVzQLg"
      ],
      "execution_count": 6,
      "outputs": [
        {
          "output_type": "stream",
          "text": [
            "  0% 0/2 [00:00<?, ?it/s]url:  https://www.youtube.com/watch?v=3Kb0QS6z7WA\n",
            "JSON file written at: 3Kb0QS6z7WA.json\n",
            " 50% 1/2 [00:00<00:00,  1.83it/s]url:  https://www.youtube.com/watch?v=E-I2DNVzQLg\n",
            "JSON file written at: E-I2DNVzQLg.json\n",
            "100% 2/2 [00:00<00:00,  2.02it/s]\n"
          ],
          "name": "stdout"
        }
      ]
    },
    {
      "cell_type": "code",
      "metadata": {
        "colab": {
          "base_uri": "https://localhost:8080/"
        },
        "id": "6VRjWfoMTztz",
        "outputId": "f8990eb8-7966-4199-e9d7-5118efae7550"
      },
      "source": [
        "!ls | grep .json"
      ],
      "execution_count": 7,
      "outputs": [
        {
          "output_type": "stream",
          "text": [
            "3Kb0QS6z7WA.json\n",
            "DbeIqrwb_dE.json\n",
            "E-I2DNVzQLg.json\n"
          ],
          "name": "stdout"
        }
      ]
    },
    {
      "cell_type": "code",
      "metadata": {
        "id": "bOMXAddoT170"
      },
      "source": [
        ""
      ],
      "execution_count": null,
      "outputs": []
    }
  ]
}